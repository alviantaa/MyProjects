{
 "cells": [
  {
   "cell_type": "markdown",
   "id": "464a71fb-cf81-4e95-8210-e5e8ea156b22",
   "metadata": {},
   "source": [
    "# **Impute Missing Values**\n"
   ]
  },
  {
   "cell_type": "markdown",
   "id": "ddd8c293-0565-4401-9e54-f9ea086d3113",
   "metadata": {},
   "source": [
    "## Objectives\n",
    "-   Identify missing values in the dataset.\n",
    "-   Apply techniques to impute missing values in the dataset.\n",
    "-   Use suitable techniques to normalize data in the dataset.\n",
    "\n"
   ]
  },
  {
   "cell_type": "markdown",
   "id": "b6ed5515-0b50-4aa3-929b-08cac498bf82",
   "metadata": {},
   "source": [
    "-----\n"
   ]
  },
  {
   "cell_type": "markdown",
   "id": "6710d704-7a2c-4eb5-b28f-c52834908770",
   "metadata": {},
   "source": [
    "#### Install needed library\n"
   ]
  },
  {
   "cell_type": "code",
   "execution_count": 24,
   "id": "f5b5f18a-2a73-427f-88c4-3267bf1cc945",
   "metadata": {},
   "outputs": [],
   "source": [
    "#!pip install pandas"
   ]
  },
  {
   "cell_type": "markdown",
   "id": "5487051f-ccad-4a05-b848-f416bb2ccb66",
   "metadata": {},
   "source": [
    "### Step 1: Import Required Libraries\n"
   ]
  },
  {
   "cell_type": "code",
   "execution_count": 25,
   "id": "188a365e-9df7-4238-80b2-d15e279ac133",
   "metadata": {},
   "outputs": [],
   "source": [
    "import pandas as pd"
   ]
  },
  {
   "cell_type": "markdown",
   "id": "a0266776-f4e9-4690-b57d-1694af0619aa",
   "metadata": {},
   "source": [
    "### Step 2: Load the Dataset Into a Dataframe\n"
   ]
  },
  {
   "cell_type": "markdown",
   "id": "64e7a616-9a52-4854-b846-256b0ee941fb",
   "metadata": {},
   "source": [
    "#### **Read Data**\n",
    "<p>\n",
    "The functions below will download the dataset into your browser:\n",
    "</p>\n"
   ]
  },
  {
   "cell_type": "code",
   "execution_count": 26,
   "id": "29cfa626-8226-463a-9e93-4f2c2d333e23",
   "metadata": {},
   "outputs": [
    {
     "data": {
      "text/html": [
       "<div>\n",
       "<style scoped>\n",
       "    .dataframe tbody tr th:only-of-type {\n",
       "        vertical-align: middle;\n",
       "    }\n",
       "\n",
       "    .dataframe tbody tr th {\n",
       "        vertical-align: top;\n",
       "    }\n",
       "\n",
       "    .dataframe thead th {\n",
       "        text-align: right;\n",
       "    }\n",
       "</style>\n",
       "<table border=\"1\" class=\"dataframe\">\n",
       "  <thead>\n",
       "    <tr style=\"text-align: right;\">\n",
       "      <th></th>\n",
       "      <th>ResponseId</th>\n",
       "      <th>MainBranch</th>\n",
       "      <th>Age</th>\n",
       "      <th>Employment</th>\n",
       "      <th>RemoteWork</th>\n",
       "      <th>Check</th>\n",
       "      <th>CodingActivities</th>\n",
       "      <th>EdLevel</th>\n",
       "      <th>LearnCode</th>\n",
       "      <th>LearnCodeOnline</th>\n",
       "      <th>...</th>\n",
       "      <th>JobSatPoints_6</th>\n",
       "      <th>JobSatPoints_7</th>\n",
       "      <th>JobSatPoints_8</th>\n",
       "      <th>JobSatPoints_9</th>\n",
       "      <th>JobSatPoints_10</th>\n",
       "      <th>JobSatPoints_11</th>\n",
       "      <th>SurveyLength</th>\n",
       "      <th>SurveyEase</th>\n",
       "      <th>ConvertedCompYearly</th>\n",
       "      <th>JobSat</th>\n",
       "    </tr>\n",
       "  </thead>\n",
       "  <tbody>\n",
       "    <tr>\n",
       "      <th>0</th>\n",
       "      <td>1</td>\n",
       "      <td>I am a developer by profession</td>\n",
       "      <td>Under 18 years old</td>\n",
       "      <td>Employed, full-time</td>\n",
       "      <td>Remote</td>\n",
       "      <td>Apples</td>\n",
       "      <td>Hobby</td>\n",
       "      <td>Primary/elementary school</td>\n",
       "      <td>Books / Physical media</td>\n",
       "      <td>NaN</td>\n",
       "      <td>...</td>\n",
       "      <td>NaN</td>\n",
       "      <td>NaN</td>\n",
       "      <td>NaN</td>\n",
       "      <td>NaN</td>\n",
       "      <td>NaN</td>\n",
       "      <td>NaN</td>\n",
       "      <td>NaN</td>\n",
       "      <td>NaN</td>\n",
       "      <td>NaN</td>\n",
       "      <td>NaN</td>\n",
       "    </tr>\n",
       "    <tr>\n",
       "      <th>1</th>\n",
       "      <td>2</td>\n",
       "      <td>I am a developer by profession</td>\n",
       "      <td>35-44 years old</td>\n",
       "      <td>Employed, full-time</td>\n",
       "      <td>Remote</td>\n",
       "      <td>Apples</td>\n",
       "      <td>Hobby;Contribute to open-source projects;Other...</td>\n",
       "      <td>Bachelor’s degree (B.A., B.S., B.Eng., etc.)</td>\n",
       "      <td>Books / Physical media;Colleague;On the job tr...</td>\n",
       "      <td>Technical documentation;Blogs;Books;Written Tu...</td>\n",
       "      <td>...</td>\n",
       "      <td>0.0</td>\n",
       "      <td>0.0</td>\n",
       "      <td>0.0</td>\n",
       "      <td>0.0</td>\n",
       "      <td>0.0</td>\n",
       "      <td>0.0</td>\n",
       "      <td>NaN</td>\n",
       "      <td>NaN</td>\n",
       "      <td>NaN</td>\n",
       "      <td>NaN</td>\n",
       "    </tr>\n",
       "    <tr>\n",
       "      <th>2</th>\n",
       "      <td>3</td>\n",
       "      <td>I am a developer by profession</td>\n",
       "      <td>45-54 years old</td>\n",
       "      <td>Employed, full-time</td>\n",
       "      <td>Remote</td>\n",
       "      <td>Apples</td>\n",
       "      <td>Hobby;Contribute to open-source projects;Other...</td>\n",
       "      <td>Master’s degree (M.A., M.S., M.Eng., MBA, etc.)</td>\n",
       "      <td>Books / Physical media;Colleague;On the job tr...</td>\n",
       "      <td>Technical documentation;Blogs;Books;Written Tu...</td>\n",
       "      <td>...</td>\n",
       "      <td>NaN</td>\n",
       "      <td>NaN</td>\n",
       "      <td>NaN</td>\n",
       "      <td>NaN</td>\n",
       "      <td>NaN</td>\n",
       "      <td>NaN</td>\n",
       "      <td>Appropriate in length</td>\n",
       "      <td>Easy</td>\n",
       "      <td>NaN</td>\n",
       "      <td>NaN</td>\n",
       "    </tr>\n",
       "    <tr>\n",
       "      <th>3</th>\n",
       "      <td>4</td>\n",
       "      <td>I am learning to code</td>\n",
       "      <td>18-24 years old</td>\n",
       "      <td>Student, full-time</td>\n",
       "      <td>NaN</td>\n",
       "      <td>Apples</td>\n",
       "      <td>NaN</td>\n",
       "      <td>Some college/university study without earning ...</td>\n",
       "      <td>Other online resources (e.g., videos, blogs, f...</td>\n",
       "      <td>Stack Overflow;How-to videos;Interactive tutorial</td>\n",
       "      <td>...</td>\n",
       "      <td>NaN</td>\n",
       "      <td>NaN</td>\n",
       "      <td>NaN</td>\n",
       "      <td>NaN</td>\n",
       "      <td>NaN</td>\n",
       "      <td>NaN</td>\n",
       "      <td>Too long</td>\n",
       "      <td>Easy</td>\n",
       "      <td>NaN</td>\n",
       "      <td>NaN</td>\n",
       "    </tr>\n",
       "    <tr>\n",
       "      <th>4</th>\n",
       "      <td>5</td>\n",
       "      <td>I am a developer by profession</td>\n",
       "      <td>18-24 years old</td>\n",
       "      <td>Student, full-time</td>\n",
       "      <td>NaN</td>\n",
       "      <td>Apples</td>\n",
       "      <td>NaN</td>\n",
       "      <td>Secondary school (e.g. American high school, G...</td>\n",
       "      <td>Other online resources (e.g., videos, blogs, f...</td>\n",
       "      <td>Technical documentation;Blogs;Written Tutorial...</td>\n",
       "      <td>...</td>\n",
       "      <td>NaN</td>\n",
       "      <td>NaN</td>\n",
       "      <td>NaN</td>\n",
       "      <td>NaN</td>\n",
       "      <td>NaN</td>\n",
       "      <td>NaN</td>\n",
       "      <td>Too short</td>\n",
       "      <td>Easy</td>\n",
       "      <td>NaN</td>\n",
       "      <td>NaN</td>\n",
       "    </tr>\n",
       "  </tbody>\n",
       "</table>\n",
       "<p>5 rows × 114 columns</p>\n",
       "</div>"
      ],
      "text/plain": [
       "   ResponseId                      MainBranch                 Age  \\\n",
       "0           1  I am a developer by profession  Under 18 years old   \n",
       "1           2  I am a developer by profession     35-44 years old   \n",
       "2           3  I am a developer by profession     45-54 years old   \n",
       "3           4           I am learning to code     18-24 years old   \n",
       "4           5  I am a developer by profession     18-24 years old   \n",
       "\n",
       "            Employment RemoteWork   Check  \\\n",
       "0  Employed, full-time     Remote  Apples   \n",
       "1  Employed, full-time     Remote  Apples   \n",
       "2  Employed, full-time     Remote  Apples   \n",
       "3   Student, full-time        NaN  Apples   \n",
       "4   Student, full-time        NaN  Apples   \n",
       "\n",
       "                                    CodingActivities  \\\n",
       "0                                              Hobby   \n",
       "1  Hobby;Contribute to open-source projects;Other...   \n",
       "2  Hobby;Contribute to open-source projects;Other...   \n",
       "3                                                NaN   \n",
       "4                                                NaN   \n",
       "\n",
       "                                             EdLevel  \\\n",
       "0                          Primary/elementary school   \n",
       "1       Bachelor’s degree (B.A., B.S., B.Eng., etc.)   \n",
       "2    Master’s degree (M.A., M.S., M.Eng., MBA, etc.)   \n",
       "3  Some college/university study without earning ...   \n",
       "4  Secondary school (e.g. American high school, G...   \n",
       "\n",
       "                                           LearnCode  \\\n",
       "0                             Books / Physical media   \n",
       "1  Books / Physical media;Colleague;On the job tr...   \n",
       "2  Books / Physical media;Colleague;On the job tr...   \n",
       "3  Other online resources (e.g., videos, blogs, f...   \n",
       "4  Other online resources (e.g., videos, blogs, f...   \n",
       "\n",
       "                                     LearnCodeOnline  ... JobSatPoints_6  \\\n",
       "0                                                NaN  ...            NaN   \n",
       "1  Technical documentation;Blogs;Books;Written Tu...  ...            0.0   \n",
       "2  Technical documentation;Blogs;Books;Written Tu...  ...            NaN   \n",
       "3  Stack Overflow;How-to videos;Interactive tutorial  ...            NaN   \n",
       "4  Technical documentation;Blogs;Written Tutorial...  ...            NaN   \n",
       "\n",
       "  JobSatPoints_7 JobSatPoints_8 JobSatPoints_9 JobSatPoints_10  \\\n",
       "0            NaN            NaN            NaN             NaN   \n",
       "1            0.0            0.0            0.0             0.0   \n",
       "2            NaN            NaN            NaN             NaN   \n",
       "3            NaN            NaN            NaN             NaN   \n",
       "4            NaN            NaN            NaN             NaN   \n",
       "\n",
       "  JobSatPoints_11           SurveyLength SurveyEase ConvertedCompYearly JobSat  \n",
       "0             NaN                    NaN        NaN                 NaN    NaN  \n",
       "1             0.0                    NaN        NaN                 NaN    NaN  \n",
       "2             NaN  Appropriate in length       Easy                 NaN    NaN  \n",
       "3             NaN               Too long       Easy                 NaN    NaN  \n",
       "4             NaN              Too short       Easy                 NaN    NaN  \n",
       "\n",
       "[5 rows x 114 columns]"
      ]
     },
     "execution_count": 26,
     "metadata": {},
     "output_type": "execute_result"
    }
   ],
   "source": [
    "#file_path = \"https://cf-courses-data.s3.us.cloud-object-storage.appdomain.cloud/n01PQ9pSmiRX6520flujwQ/survey-data.csv\"\n",
    "file_path = \"survey_data.csv\"\n",
    "df = pd.read_csv(file_path)\n",
    "\n",
    "# Display the first few rows to ensure it loaded correctly\n",
    "df.head()"
   ]
  },
  {
   "cell_type": "markdown",
   "id": "87ba2b4b-aa12-467d-8397-f2092dd5ce2d",
   "metadata": {},
   "source": [
    "### Step 3. Finding and Removing Duplicates\n",
    "##### Task 1: Identify duplicate rows in the dataset.\n"
   ]
  },
  {
   "cell_type": "code",
   "execution_count": 27,
   "id": "a7c2b5aa-6bca-4ea2-80ea-834b7f0e7f50",
   "metadata": {},
   "outputs": [
    {
     "data": {
      "text/plain": [
       "0"
      ]
     },
     "execution_count": 27,
     "metadata": {},
     "output_type": "execute_result"
    }
   ],
   "source": [
    "df.duplicated().sum()"
   ]
  },
  {
   "cell_type": "markdown",
   "id": "e9572ce8-3716-4acf-aaff-d6531a16693d",
   "metadata": {},
   "source": [
    "##### Task 2: Remove the duplicate rows from the dataframe.\n",
    "\n"
   ]
  },
  {
   "cell_type": "code",
   "execution_count": 28,
   "id": "8612b6bc-feab-42b0-9072-562d9d7ffa50",
   "metadata": {},
   "outputs": [],
   "source": [
    "# No dupe"
   ]
  },
  {
   "cell_type": "markdown",
   "id": "a618ea68-6987-4637-90c3-cb4fe75903c5",
   "metadata": {},
   "source": [
    "### Step 4: Finding Missing Values\n",
    "##### Task 3: Find the missing values for all columns.\n"
   ]
  },
  {
   "cell_type": "code",
   "execution_count": 29,
   "id": "02d297a0-d346-4cf1-a611-abbaa9b122f4",
   "metadata": {},
   "outputs": [
    {
     "name": "stdout",
     "output_type": "stream",
     "text": [
      "ResponseId                            0\n",
      "MainBranch                            0\n",
      "Age                                   0\n",
      "Employment                            0\n",
      "RemoteWork                        10631\n",
      "Check                                 0\n",
      "CodingActivities                  10971\n",
      "EdLevel                            4653\n",
      "LearnCode                          4949\n",
      "LearnCodeOnline                   16200\n",
      "TechDoc                           24540\n",
      "YearsCode                          5568\n",
      "YearsCodePro                      13827\n",
      "DevType                            5992\n",
      "OrgSize                           17957\n",
      "PurchaseInfluence                 18031\n",
      "BuyNewTool                        20256\n",
      "BuildvsBuy                        22079\n",
      "TechEndorse                       21769\n",
      "Country                            6507\n",
      "Currency                          18753\n",
      "CompTotal                         31697\n",
      "LanguageHaveWorkedWith             5692\n",
      "LanguageWantToWorkWith             9685\n",
      "LanguageAdmired                   14565\n",
      "DatabaseHaveWorkedWith            15183\n",
      "DatabaseWantToWorkWith            22879\n",
      "DatabaseAdmired                   26880\n",
      "PlatformHaveWorkedWith            23071\n",
      "PlatformWantToWorkWith            30905\n",
      "PlatformAdmired                   34060\n",
      "WebframeHaveWorkedWith            20276\n",
      "WebframeWantToWorkWith            26902\n",
      "WebframeAdmired                   30494\n",
      "EmbeddedHaveWorkedWith            43223\n",
      "EmbeddedWantToWorkWith            47837\n",
      "EmbeddedAdmired                   48704\n",
      "MiscTechHaveWorkedWith            25994\n",
      "MiscTechWantToWorkWith            32473\n",
      "MiscTechAdmired                   35841\n",
      "ToolsTechHaveWorkedWith           12955\n",
      "ToolsTechWantToWorkWith           19353\n",
      "ToolsTechAdmired                  21440\n",
      "NEWCollabToolsHaveWorkedWith       7845\n",
      "NEWCollabToolsWantToWorkWith      13350\n",
      "NEWCollabToolsAdmired             14726\n",
      "OpSysPersonal use                  7263\n",
      "OpSysProfessional use             12464\n",
      "OfficeStackAsyncHaveWorkedWith    17344\n",
      "OfficeStackAsyncWantToWorkWith    26471\n",
      "OfficeStackAsyncAdmired           28233\n",
      "OfficeStackSyncHaveWorkedWith      9892\n",
      "OfficeStackSyncWantToWorkWith     18726\n",
      "OfficeStackSyncAdmired            20725\n",
      "AISearchDevHaveWorkedWith         20984\n",
      "AISearchDevWantToWorkWith         28736\n",
      "AISearchDevAdmired                29894\n",
      "NEWSOSites                         5151\n",
      "SOVisitFreq                        5901\n",
      "SOAccount                          5877\n",
      "SOPartFreq                        20200\n",
      "SOHow                              6475\n",
      "SOComm                             6274\n",
      "AISelect                           4530\n",
      "AISent                            19564\n",
      "AIBen                             28543\n",
      "AIAcc                             28135\n",
      "AIComplex                         28416\n",
      "AIToolCurrently Using             30365\n",
      "AIToolInterested in Using         34746\n",
      "AIToolNot interested in Using     41023\n",
      "AINextMuch more integrated        51999\n",
      "AINextNo change                   52939\n",
      "AINextMore integrated             41009\n",
      "AINextLess integrated             63082\n",
      "AINextMuch less integrated        64289\n",
      "AIThreat                          20748\n",
      "AIEthics                          23889\n",
      "AIChallenges                      27906\n",
      "TBranch                           20960\n",
      "ICorPM                            35636\n",
      "WorkExp                           35779\n",
      "Knowledge_1                       36773\n",
      "Knowledge_2                       37416\n",
      "Knowledge_3                       37342\n",
      "Knowledge_4                       37407\n",
      "Knowledge_5                       37557\n",
      "Knowledge_6                       37573\n",
      "Knowledge_7                       37659\n",
      "Knowledge_8                       37679\n",
      "Knowledge_9                       37802\n",
      "Frequency_1                       37068\n",
      "Frequency_2                       37073\n",
      "Frequency_3                       37727\n",
      "TimeSearching                     36526\n",
      "TimeAnswering                     36593\n",
      "Frustration                       37186\n",
      "ProfessionalTech                  37673\n",
      "ProfessionalCloud                 36946\n",
      "ProfessionalQuestion              36630\n",
      "Industry                          36579\n",
      "JobSatPoints_1                    36113\n",
      "JobSatPoints_4                    36044\n",
      "JobSatPoints_5                    36026\n",
      "JobSatPoints_6                    35987\n",
      "JobSatPoints_7                    35989\n",
      "JobSatPoints_8                    35981\n",
      "JobSatPoints_9                    35981\n",
      "JobSatPoints_10                   35987\n",
      "JobSatPoints_11                   35992\n",
      "SurveyLength                       9255\n",
      "SurveyEase                         9199\n",
      "ConvertedCompYearly               42002\n",
      "JobSat                            36311\n",
      "dtype: int64\n"
     ]
    }
   ],
   "source": [
    "with pd.option_context('display.max_rows', None, 'display.max_columns', None):\n",
    "    print(df.isnull().sum())"
   ]
  },
  {
   "cell_type": "markdown",
   "id": "18019a73-81cc-46de-99e8-cf49fe7e936d",
   "metadata": {},
   "source": [
    "##### Task 4: Find out how many rows are missing in the column RemoteWork.\n"
   ]
  },
  {
   "cell_type": "code",
   "execution_count": 30,
   "id": "b5f3e1ae-c149-4a84-8b78-dea41444dfae",
   "metadata": {},
   "outputs": [
    {
     "data": {
      "text/plain": [
       "10631"
      ]
     },
     "execution_count": 30,
     "metadata": {},
     "output_type": "execute_result"
    }
   ],
   "source": [
    "df['RemoteWork'].isna().sum()"
   ]
  },
  {
   "cell_type": "markdown",
   "id": "3f499b03-1e74-4e7b-ab3f-13e825d45336",
   "metadata": {},
   "source": [
    "### Step 5. Imputing Missing Values\n",
    "##### Task 5: Find the value counts for the column RemoteWork.\n"
   ]
  },
  {
   "cell_type": "code",
   "execution_count": 31,
   "id": "d5d5fd16-8b03-4f3b-9443-88d1ed8d351c",
   "metadata": {},
   "outputs": [
    {
     "data": {
      "text/plain": [
       "RemoteWork\n",
       "Hybrid (some remote, some in-person)    23015\n",
       "Remote                                  20831\n",
       "In-person                               10960\n",
       "Name: count, dtype: int64"
      ]
     },
     "execution_count": 31,
     "metadata": {},
     "output_type": "execute_result"
    }
   ],
   "source": [
    "df['RemoteWork'].value_counts()"
   ]
  },
  {
   "cell_type": "markdown",
   "id": "7323936a-5465-4434-ba48-1d0a24eb263c",
   "metadata": {},
   "source": [
    "##### Task 6: Identify the most frequent (majority) value in the RemoteWork column.\n",
    "\n"
   ]
  },
  {
   "cell_type": "code",
   "execution_count": 32,
   "id": "bea2746f-1cf9-421e-a3f7-b69fa6464076",
   "metadata": {},
   "outputs": [
    {
     "data": {
      "text/plain": [
       "0    Hybrid (some remote, some in-person)\n",
       "Name: RemoteWork, dtype: object"
      ]
     },
     "execution_count": 32,
     "metadata": {},
     "output_type": "execute_result"
    }
   ],
   "source": [
    "df['RemoteWork'].mode()"
   ]
  },
  {
   "cell_type": "markdown",
   "id": "c0210577-6fc7-4e52-8fad-f84835da0956",
   "metadata": {},
   "source": [
    "##### Task 7: Impute (replace) all the empty rows in the column RemoteWork with the majority value.\n",
    "\n"
   ]
  },
  {
   "cell_type": "code",
   "execution_count": 33,
   "id": "5d91447d-834b-4bb6-8fa5-57b88c8eaa13",
   "metadata": {},
   "outputs": [
    {
     "name": "stderr",
     "output_type": "stream",
     "text": [
      "C:\\Users\\alvia\\AppData\\Local\\Temp\\ipykernel_27972\\1160866896.py:2: FutureWarning: A value is trying to be set on a copy of a DataFrame or Series through chained assignment using an inplace method.\n",
      "The behavior will change in pandas 3.0. This inplace method will never work because the intermediate object on which we are setting values always behaves as a copy.\n",
      "\n",
      "For example, when doing 'df[col].method(value, inplace=True)', try using 'df.method({col: value}, inplace=True)' or df[col] = df[col].method(value) instead, to perform the operation inplace on the original object.\n",
      "\n",
      "\n",
      "  df['RemoteWork'].fillna(freq, inplace=True)\n"
     ]
    }
   ],
   "source": [
    "freq = df['RemoteWork'].mode()[0]\n",
    "df['RemoteWork'].fillna(freq, inplace=True)"
   ]
  },
  {
   "cell_type": "code",
   "execution_count": 34,
   "metadata": {},
   "outputs": [
    {
     "data": {
      "text/plain": [
       "0"
      ]
     },
     "execution_count": 34,
     "metadata": {},
     "output_type": "execute_result"
    }
   ],
   "source": [
    "df['RemoteWork'].isna().sum()"
   ]
  },
  {
   "cell_type": "markdown",
   "id": "d9b3b12d-d8b7-4502-b6a3-d721207c0ca3",
   "metadata": {},
   "source": [
    "##### Task 8: Check for any compensation-related columns and describe their distribution."
   ]
  },
  {
   "cell_type": "code",
   "execution_count": 36,
   "id": "9e258f23-dc60-4495-badb-102a1bb5d26b",
   "metadata": {},
   "outputs": [
    {
     "name": "stdout",
     "output_type": "stream",
     "text": [
      "Compensation-related columns: ['CompTotal', 'AIComplex', 'ConvertedCompYearly']\n"
     ]
    }
   ],
   "source": [
    "comp_cols = [col for col in df.columns if 'comp' in col.lower() or 'salary' in col.lower()]\n",
    "print(\"Compensation-related columns:\", comp_cols)\n"
   ]
  },
  {
   "cell_type": "code",
   "execution_count": 37,
   "metadata": {},
   "outputs": [
    {
     "data": {
      "image/png": "[encoded data removed]",
      "text/plain": [
       "<Figure size 1000x500 with 1 Axes>"
      ]
     },
     "metadata": {},
     "output_type": "display_data"
    },
    {
     "data": {
      "image/png": "[encoded data removed]",
      "text/plain": [
       "<Figure size 640x480 with 1 Axes>"
      ]
     },
     "metadata": {},
     "output_type": "display_data"
    }
   ],
   "source": [
    "import seaborn as sns\n",
    "import matplotlib.pyplot as plt\n",
    "\n",
    "plt.figure(figsize=(10, 5))\n",
    "\n",
    "for col in comp_cols:\n",
    "    if df[col].dtype in ['int64', 'float64']:  # Only plot numerical columns\n",
    "        sns.histplot(df[col], kde=True, bins=30)\n",
    "        plt.title(f'Distribution of {col}')\n",
    "        plt.xlabel(col)\n",
    "        plt.ylabel('Frequency')\n",
    "        plt.show()\n"
   ]
  },
  {
   "cell_type": "code",
   "execution_count": 38,
   "metadata": {},
   "outputs": [
    {
     "data": {
      "image/png": "[encoded data removed]",
      "text/plain": [
       "<Figure size 1000x500 with 1 Axes>"
      ]
     },
     "metadata": {},
     "output_type": "display_data"
    },
    {
     "data": {
      "image/png": "[encoded data removed]",
      "text/plain": [
       "<Figure size 640x480 with 1 Axes>"
      ]
     },
     "metadata": {},
     "output_type": "display_data"
    }
   ],
   "source": [
    "plt.figure(figsize=(10, 5))\n",
    "\n",
    "for col in comp_cols:\n",
    "    if df[col].dtype in ['int64', 'float64']:\n",
    "        sns.boxplot(x=df[col])\n",
    "        plt.title(f'Boxplot of {col}')\n",
    "        plt.show()"
   ]
  },
  {
   "cell_type": "markdown",
   "id": "499fc479-e7da-41aa-b41b-6c8ba5ee57d9",
   "metadata": {},
   "source": [
    "Copyright © IBM Corporation. All rights reserved.\n"
   ]
  }
 ],
 "metadata": {
  "kernelspec": {
   "display_name": "base",
   "language": "python",
   "name": "python3"
  },
  "language_info": {
   "codemirror_mode": {
    "name": "ipython",
    "version": 3
   },
   "file_extension": ".py",
   "mimetype": "text/x-python",
   "name": "python",
   "nbconvert_exporter": "python",
   "pygments_lexer": "ipython3",
   "version": "3.12.7"
  },
  "prev_pub_hash": "70ab641719bca2be0bdcb38f6a8b5de7851b6e9c28d41b9407096c62e74916a6"
 },
 "nbformat": 4,
 "nbformat_minor": 4
}
